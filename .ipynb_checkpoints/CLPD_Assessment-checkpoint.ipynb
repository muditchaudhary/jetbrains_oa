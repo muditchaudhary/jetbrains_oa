{
 "cells": [
  {
   "cell_type": "markdown",
   "id": "c47320cb-724e-4870-8409-ea24d3462a10",
   "metadata": {},
   "source": [
    "# JetBrains ML Engineer Intern (CLPD) Test  Assignment\n",
    "\n",
    "__Task Description:__\n",
    "Please, send us a link to a git repository with the self-contained, reproducible Jupyter notebook that includes code and text comparing any two existing open source solutions for the problem described in the position posting (e.g enry and pygments) on some small but realistic dataset of your choice (e.g clone several OSS git repositories). It must be possible to re-run all the cells in the notebook without any errors to get similar results. Be prepared to discuss the implementation details and trade-offs of each of the chosen approaches.  \n",
    "\n",
    "__Job posting link:__ https://www.jetbrains.com/careers/jobs/ml-engineer-intern-cpld-705/  \n",
    "\n",
    "__Candidate Name:__ Mudit Chaudhary  \n",
    "__Candidate Email:__ mchaudhary@umass.edu"
   ]
  },
  {
   "cell_type": "markdown",
   "id": "f524a531-b54e-4817-bc6e-4965a08e2dcb",
   "metadata": {},
   "source": [
    "## 1. Chosen Open source solutions programming language detection task\n",
    "\n",
    "In this assignment, I choose the following open source solutions for the programming language detection task:\n",
    "\n",
    "1. __Enry:__ Programming language detector and toolbox to ignore binary or vendored files. enry, started as a port to Go of the original Linguist Ruby library, that has an improved 2x performance. [Link](https://github.com/go-enry/go-enry)\n",
    "\n",
    "2. __GuessLang:__ Guesslang is neural network based programming language detector which supports over 50 programming languages. It is also used by Microsoft VS Code for programming languages detection. [Link](https://guesslang.readthedocs.io/en/latest/)\n",
    "\n",
    "### 1.1 Motivation to choose these solutions\n",
    "These two solutions are chosen because of their inherent differences in how they approach the problem. Enry focuses on a multi-faceted approach by utilizing not only the file content but also other features such as file name, extensions, etc., whereas, Guesslang only focuses on the file content. We will discuss about the differences between their implementations as we go through this notebook."
   ]
  },
  {
   "cell_type": "markdown",
   "id": "84ee8619-3472-4b99-b0ce-58d1442fc308",
   "metadata": {},
   "source": [
    "## 2. Requirements to run this notebook\n",
    "\n",
    "The Jupyter notebook assumes the following programming languages are already installed on the system:\n",
    "1. Python (Tested on 3.7 or later)\n",
    "2. Go (Tested on 1.17.3)\n",
    "\n",
    "Most of the requirements are installed within this notebook. However, if due to JetBrain's organization constraints you cannot install the packages from within the Jupyter notebook, the required packages are listed below:\n",
    "\n",
    "\n",
    "1. guesslang == 2.2.1\n"
   ]
  },
  {
   "cell_type": "markdown",
   "id": "34e9c2bf-34b6-4fdf-a4ee-07bbc872c7ca",
   "metadata": {},
   "source": [
    "The following coding cell installs the required packages. Please do not run if the packages are installed separately."
   ]
  },
  {
   "cell_type": "code",
   "execution_count": 19,
   "id": "a3c4de7a-ee6b-4ec7-86d3-27dc3f36f047",
   "metadata": {},
   "outputs": [
    {
     "name": "stdout",
     "output_type": "stream",
     "text": [
      "Requirement already satisfied: guesslang in /Users/mudit/miniconda3/envs/682/lib/python3.6/site-packages (2.2.1)\n",
      "Requirement already satisfied: tensorflow==2.5.0 in /Users/mudit/miniconda3/envs/682/lib/python3.6/site-packages (from guesslang) (2.5.0)\n",
      "Requirement already satisfied: gast==0.4.0 in /Users/mudit/miniconda3/envs/682/lib/python3.6/site-packages (from tensorflow==2.5.0->guesslang) (0.4.0)\n",
      "Requirement already satisfied: tensorflow-estimator<2.6.0,>=2.5.0rc0 in /Users/mudit/miniconda3/envs/682/lib/python3.6/site-packages (from tensorflow==2.5.0->guesslang) (2.5.0)\n",
      "Requirement already satisfied: opt-einsum~=3.3.0 in /Users/mudit/miniconda3/envs/682/lib/python3.6/site-packages (from tensorflow==2.5.0->guesslang) (3.3.0)\n",
      "Requirement already satisfied: google-pasta~=0.2 in /Users/mudit/miniconda3/envs/682/lib/python3.6/site-packages (from tensorflow==2.5.0->guesslang) (0.2.0)\n",
      "Requirement already satisfied: numpy~=1.19.2 in /Users/mudit/miniconda3/envs/682/lib/python3.6/site-packages (from tensorflow==2.5.0->guesslang) (1.19.2)\n",
      "Requirement already satisfied: six~=1.15.0 in /Users/mudit/miniconda3/envs/682/lib/python3.6/site-packages (from tensorflow==2.5.0->guesslang) (1.15.0)\n",
      "Requirement already satisfied: h5py~=3.1.0 in /Users/mudit/miniconda3/envs/682/lib/python3.6/site-packages (from tensorflow==2.5.0->guesslang) (3.1.0)\n",
      "Requirement already satisfied: astunparse~=1.6.3 in /Users/mudit/miniconda3/envs/682/lib/python3.6/site-packages (from tensorflow==2.5.0->guesslang) (1.6.3)\n",
      "Requirement already satisfied: keras-nightly~=2.5.0.dev in /Users/mudit/miniconda3/envs/682/lib/python3.6/site-packages (from tensorflow==2.5.0->guesslang) (2.5.0.dev2021032900)\n",
      "Requirement already satisfied: absl-py~=0.10 in /Users/mudit/miniconda3/envs/682/lib/python3.6/site-packages (from tensorflow==2.5.0->guesslang) (0.15.0)\n",
      "Requirement already satisfied: flatbuffers~=1.12.0 in /Users/mudit/miniconda3/envs/682/lib/python3.6/site-packages (from tensorflow==2.5.0->guesslang) (1.12)\n",
      "Requirement already satisfied: keras-preprocessing~=1.1.2 in /Users/mudit/miniconda3/envs/682/lib/python3.6/site-packages (from tensorflow==2.5.0->guesslang) (1.1.2)\n",
      "Requirement already satisfied: typing-extensions~=3.7.4 in /Users/mudit/miniconda3/envs/682/lib/python3.6/site-packages (from tensorflow==2.5.0->guesslang) (3.7.4.3)\n",
      "Requirement already satisfied: tensorboard~=2.5 in /Users/mudit/miniconda3/envs/682/lib/python3.6/site-packages (from tensorflow==2.5.0->guesslang) (2.7.0)\n",
      "Requirement already satisfied: wrapt~=1.12.1 in /Users/mudit/miniconda3/envs/682/lib/python3.6/site-packages (from tensorflow==2.5.0->guesslang) (1.12.1)\n",
      "Requirement already satisfied: wheel~=0.35 in /Users/mudit/miniconda3/envs/682/lib/python3.6/site-packages (from tensorflow==2.5.0->guesslang) (0.37.0)\n",
      "Requirement already satisfied: termcolor~=1.1.0 in /Users/mudit/miniconda3/envs/682/lib/python3.6/site-packages (from tensorflow==2.5.0->guesslang) (1.1.0)\n",
      "Requirement already satisfied: protobuf>=3.9.2 in /Users/mudit/miniconda3/envs/682/lib/python3.6/site-packages (from tensorflow==2.5.0->guesslang) (3.19.1)\n",
      "Requirement already satisfied: grpcio~=1.34.0 in /Users/mudit/miniconda3/envs/682/lib/python3.6/site-packages (from tensorflow==2.5.0->guesslang) (1.34.1)\n",
      "Requirement already satisfied: cached-property in /Users/mudit/miniconda3/envs/682/lib/python3.6/site-packages (from h5py~=3.1.0->tensorflow==2.5.0->guesslang) (1.5.2)\n",
      "Requirement already satisfied: markdown>=2.6.8 in /Users/mudit/miniconda3/envs/682/lib/python3.6/site-packages (from tensorboard~=2.5->tensorflow==2.5.0->guesslang) (3.3.4)\n",
      "Requirement already satisfied: tensorboard-data-server<0.7.0,>=0.6.0 in /Users/mudit/miniconda3/envs/682/lib/python3.6/site-packages (from tensorboard~=2.5->tensorflow==2.5.0->guesslang) (0.6.1)\n",
      "Requirement already satisfied: requests<3,>=2.21.0 in /Users/mudit/miniconda3/envs/682/lib/python3.6/site-packages (from tensorboard~=2.5->tensorflow==2.5.0->guesslang) (2.26.0)\n",
      "Requirement already satisfied: setuptools>=41.0.0 in /Users/mudit/miniconda3/envs/682/lib/python3.6/site-packages (from tensorboard~=2.5->tensorflow==2.5.0->guesslang) (52.0.0.post20210125)\n",
      "Requirement already satisfied: google-auth-oauthlib<0.5,>=0.4.1 in /Users/mudit/miniconda3/envs/682/lib/python3.6/site-packages (from tensorboard~=2.5->tensorflow==2.5.0->guesslang) (0.4.6)\n",
      "Requirement already satisfied: google-auth<3,>=1.6.3 in /Users/mudit/miniconda3/envs/682/lib/python3.6/site-packages (from tensorboard~=2.5->tensorflow==2.5.0->guesslang) (2.3.3)\n",
      "Requirement already satisfied: tensorboard-plugin-wit>=1.6.0 in /Users/mudit/miniconda3/envs/682/lib/python3.6/site-packages (from tensorboard~=2.5->tensorflow==2.5.0->guesslang) (1.8.0)\n",
      "Requirement already satisfied: werkzeug>=0.11.15 in /Users/mudit/miniconda3/envs/682/lib/python3.6/site-packages (from tensorboard~=2.5->tensorflow==2.5.0->guesslang) (2.0.2)\n",
      "Requirement already satisfied: cachetools<5.0,>=2.0.0 in /Users/mudit/miniconda3/envs/682/lib/python3.6/site-packages (from google-auth<3,>=1.6.3->tensorboard~=2.5->tensorflow==2.5.0->guesslang) (4.2.4)\n",
      "Requirement already satisfied: rsa<5,>=3.1.4 in /Users/mudit/miniconda3/envs/682/lib/python3.6/site-packages (from google-auth<3,>=1.6.3->tensorboard~=2.5->tensorflow==2.5.0->guesslang) (4.7.2)\n",
      "Requirement already satisfied: pyasn1-modules>=0.2.1 in /Users/mudit/miniconda3/envs/682/lib/python3.6/site-packages (from google-auth<3,>=1.6.3->tensorboard~=2.5->tensorflow==2.5.0->guesslang) (0.2.8)\n",
      "Requirement already satisfied: requests-oauthlib>=0.7.0 in /Users/mudit/miniconda3/envs/682/lib/python3.6/site-packages (from google-auth-oauthlib<0.5,>=0.4.1->tensorboard~=2.5->tensorflow==2.5.0->guesslang) (1.3.0)\n",
      "Requirement already satisfied: importlib-metadata in /Users/mudit/miniconda3/envs/682/lib/python3.6/site-packages (from markdown>=2.6.8->tensorboard~=2.5->tensorflow==2.5.0->guesslang) (3.10.0)\n",
      "Requirement already satisfied: pyasn1<0.5.0,>=0.4.6 in /Users/mudit/miniconda3/envs/682/lib/python3.6/site-packages (from pyasn1-modules>=0.2.1->google-auth<3,>=1.6.3->tensorboard~=2.5->tensorflow==2.5.0->guesslang) (0.4.8)\n",
      "Requirement already satisfied: urllib3<1.27,>=1.21.1 in /Users/mudit/miniconda3/envs/682/lib/python3.6/site-packages (from requests<3,>=2.21.0->tensorboard~=2.5->tensorflow==2.5.0->guesslang) (1.26.6)\n",
      "Requirement already satisfied: idna<4,>=2.5 in /Users/mudit/miniconda3/envs/682/lib/python3.6/site-packages (from requests<3,>=2.21.0->tensorboard~=2.5->tensorflow==2.5.0->guesslang) (3.2)\n",
      "Requirement already satisfied: charset-normalizer~=2.0.0 in /Users/mudit/miniconda3/envs/682/lib/python3.6/site-packages (from requests<3,>=2.21.0->tensorboard~=2.5->tensorflow==2.5.0->guesslang) (2.0.4)\n",
      "Requirement already satisfied: certifi>=2017.4.17 in /Users/mudit/miniconda3/envs/682/lib/python3.6/site-packages (from requests<3,>=2.21.0->tensorboard~=2.5->tensorflow==2.5.0->guesslang) (2021.5.30)\n",
      "Requirement already satisfied: oauthlib>=3.0.0 in /Users/mudit/miniconda3/envs/682/lib/python3.6/site-packages (from requests-oauthlib>=0.7.0->google-auth-oauthlib<0.5,>=0.4.1->tensorboard~=2.5->tensorflow==2.5.0->guesslang) (3.1.1)\n",
      "Requirement already satisfied: dataclasses in /Users/mudit/miniconda3/envs/682/lib/python3.6/site-packages (from werkzeug>=0.11.15->tensorboard~=2.5->tensorflow==2.5.0->guesslang) (0.8)\n",
      "Requirement already satisfied: zipp>=0.5 in /Users/mudit/miniconda3/envs/682/lib/python3.6/site-packages (from importlib-metadata->markdown>=2.6.8->tensorboard~=2.5->tensorflow==2.5.0->guesslang) (3.5.0)\n",
      "go: creating new go.mod: module jetbrain_oa.com/enryExample\n"
     ]
    }
   ],
   "source": [
    "# Install packages\n",
    "!pip install guesslang\n",
    "!go mod init jetbrain_oa.com/enryExample\n",
    "!go get github.com/go-enry/go-enry/v2"
   ]
  },
  {
   "cell_type": "markdown",
   "id": "59a43748-7147-4090-9912-818b61ab4641",
   "metadata": {},
   "source": [
    "## 3. Dataset \n",
    "The dataset that I'll evaluate and compare the two solutions is collected from open source github repositories. The small dataset consists of the following repositories:\n",
    "\n",
    "1. [facebook/DPR](https://github.com/facebookresearch/DPR)\n",
    "2. [Homebrew/brew](https://github.com/Homebrew/brew)\n",
    "3. [newrelic/opensource-website](https://github.com/newrelic/opensource-website)\n",
    "4. [kkos/oniguruma](https://github.com/kkos/oniguruma)\n",
    "5. [Azure/azure-storage-net-data-movement](https://github.com/Azure/azure-storage-net-data-movement)\n",
    "6. [laravel/laravel](https://github.com/laravel/laravel)\n",
    "\n",
    "This collection of repositories is deliberately chosen so as to increase the language diversity and repository structure. The data is available in the ```data``` folder."
   ]
  },
  {
   "cell_type": "code",
   "execution_count": 20,
   "id": "3f56c5e1-9c04-4c99-ba9f-85fba5d594af",
   "metadata": {},
   "outputs": [],
   "source": [
    "# Import statement\n",
    "import time\n",
    "import guesslang\n",
    "from typing import List, Tuple, Optional\n",
    "import os"
   ]
  },
  {
   "cell_type": "markdown",
   "id": "543d4d0e-ab0e-44ec-bfee-6984a8966a7c",
   "metadata": {},
   "source": [
    "----------------------------------------------------------------------------------------------  \n",
    "----------------------------------------------------------------------------------------------  \n",
    "## 4. Comparison \n"
   ]
  },
  {
   "cell_type": "markdown",
   "id": "a722c075-8934-4cae-82e0-00a8190f139f",
   "metadata": {},
   "source": [
    "### 4.1 Comparison of language detection features\n",
    "\n",
    "In this section, we compare the difference in major language detection features that aforementioned solutions offer. After describing the differences, we go on to show implementation of those features through code. We do not compare the list of languages offered by these two solutions in this section.\n",
    "\n",
    "![alt text](./images/feature_comparison.png)\n",
    "\n",
    "From a quick observation, we might conclude that Guesslang doesn't hold anywhere near Enry. However, we need to understand that these two solutions are at very different stages of development and for a slightly different idealogy."
   ]
  },
  {
   "cell_type": "markdown",
   "id": "f4ede15f-ac08-46df-b784-4d41248e3477",
   "metadata": {},
   "source": [
    "#### 4.1.1 Using Guesslang on a single code file\n",
    "\n",
    "We pick a single code file ```./data/DPR/generate_dense_embeddings.py``` which is a python code. We will also check the time it takes for guesslang to process"
   ]
  },
  {
   "cell_type": "code",
   "execution_count": 21,
   "id": "29751b7d-3917-45ec-98e8-20693a9a1730",
   "metadata": {},
   "outputs": [],
   "source": [
    "def guessLangFile(filepath: str, verbose=False, topk=3, model=None) -> List[Tuple[str, float]]:\n",
    "    \"\"\"\n",
    "    Given a file path, return the source code probabilities \n",
    "    \"\"\"\n",
    "    start = time.time()\n",
    "    if model == None:\n",
    "        guessLangModel = guesslang.Guess()\n",
    "    else:\n",
    "        guessLangModel = model\n",
    "    endModelInit = time.time()\n",
    "    codeFile = open(filepath, \"r\")\n",
    "    code = codeFile.read()\n",
    "    codeFile.close()\n",
    "    probs = guessLangModel.probabilities(code)\n",
    "    \n",
    "    end = time.time()   \n",
    "    if verbose:\n",
    "        file_size = os.path.getsize(filepath)\n",
    "        if model == None:\n",
    "            print(\"Time to intialize guessLang model(secs) \" + str(endModelInit-start))\n",
    "        print(\"Total time to execute(secs) \" + str(end-start))        \n",
    "        \n",
    "        \n",
    "    return probs[:topk] "
   ]
  },
  {
   "cell_type": "markdown",
   "id": "817ee502-bc8e-4ba1-9805-84074b8cb4fc",
   "metadata": {},
   "source": [
    "#### Probabilties and time taken to execute with model initialized inside the function"
   ]
  },
  {
   "cell_type": "code",
   "execution_count": 22,
   "id": "23b5b3a8-85b2-4dd7-a67c-80707f02066b",
   "metadata": {},
   "outputs": [
    {
     "name": "stdout",
     "output_type": "stream",
     "text": [
      "Time to intialize guessLang model(secs) 0.6882758140563965\n",
      "Total time to execute(secs) 0.8142340183258057\n"
     ]
    },
    {
     "data": {
      "text/plain": [
       "[('Python', 1.0),\n",
       " ('Julia', 1.2100569435347097e-09),\n",
       " ('Lua', 3.5541371928848875e-11)]"
      ]
     },
     "execution_count": 22,
     "metadata": {},
     "output_type": "execute_result"
    }
   ],
   "source": [
    "guessLangFile(\"./data/DPR/generate_dense_embeddings.py\", verbose = True)"
   ]
  },
  {
   "cell_type": "markdown",
   "id": "c2095ca5-e0ae-4366-b0ab-c3c694c59f57",
   "metadata": {},
   "source": [
    "#### Probabilties and time taken to execute with model initialized outside the function"
   ]
  },
  {
   "cell_type": "code",
   "execution_count": 23,
   "id": "04b65d33-1d9f-4bc8-867a-dba2fd9ee22c",
   "metadata": {},
   "outputs": [
    {
     "name": "stdout",
     "output_type": "stream",
     "text": [
      "Total time to execute(secs) 0.11790800094604492\n"
     ]
    },
    {
     "data": {
      "text/plain": [
       "[('Python', 1.0),\n",
       " ('Julia', 1.2100569435347097e-09),\n",
       " ('Lua', 3.5541371928848875e-11)]"
      ]
     },
     "execution_count": 23,
     "metadata": {},
     "output_type": "execute_result"
    }
   ],
   "source": [
    "model = guesslang.Guess()\n",
    "guessLangFile(\"./data/DPR/generate_dense_embeddings.py\", verbose = True, model=model)"
   ]
  },
  {
   "cell_type": "markdown",
   "id": "17a8fe5b-9897-4004-8f6b-3da795eb20b9",
   "metadata": {},
   "source": [
    "#### 4.1.2 Using Enry on a single code file\n",
    "\n",
    "We pick a single code file ```./data/DPR/generate_dense_embeddings.py``` which is a python code. We will also check the time it takes for enry to process. \n",
    "As enry does not provide reliable python bindings, we use Golang code in the file ```./code/enry_singleFile.go```"
   ]
  },
  {
   "cell_type": "code",
   "execution_count": 24,
   "id": "b0919608-de6f-4bcb-808d-b1a9c96a4d01",
   "metadata": {},
   "outputs": [
    {
     "name": "stdout",
     "output_type": "stream",
     "text": [
      "Filename:  ./data/DPR/generate_dense_embeddings.py\n",
      "Predicted language:  Python\n",
      "2021/11/11 21:02:21 Total execution time(secs)  0.000210\n"
     ]
    }
   ],
   "source": [
    "!go run code/enry_singleFile.go ./data/DPR/generate_dense_embeddings.py"
   ]
  },
  {
   "cell_type": "markdown",
   "id": "41adff56-c7ca-4831-ab3b-d4a6a6d180ba",
   "metadata": {},
   "source": [
    "#### 4.1.3 Using Enry and Guesslang on files with different sizes\n",
    "We will run enry and Guesslang on the following files with different sizes.\n",
    "\n",
    "1. ```./data/azure-storage-net-data-movement/lib/NativeMD5.cs (8776 bytes) (C#)```\n",
    "2. ```./data/brew/Library/Homebrew/utils.rb (15079 bytes) (Ruby)```\n",
    "3. ```./data/brew/Library/Homebrew/tap_constants.rb (959 bytes) (Ruby)```\n",
    "4. ```./data/opensource-website/jest-preprocess.js (169 bytes) (Javascript)```\n",
    "5. ```./data/DPR/dpr/models/pytext_models.py (4915 bytes) (Python)```"
   ]
  },
  {
   "cell_type": "code",
   "execution_count": 25,
   "id": "b79aab0a-3578-4c52-9d5e-0f4c754abd2a",
   "metadata": {},
   "outputs": [
    {
     "name": "stdout",
     "output_type": "stream",
     "text": [
      "Filename: ./data/brew/Library/Homebrew/utils.rb\n",
      "Total time to execute(secs) 0.008651018142700195\n",
      "[('Ruby', 1.0)]\n",
      "Filename: ./data/azure-storage-net-data-movement/lib/NativeMD5.cs\n",
      "Total time to execute(secs) 0.0034759044647216797\n",
      "[('C#', 0.9999887943267822)]\n",
      "Filename: ./data/brew/Library/Homebrew/tap_constants.rb\n",
      "Total time to execute(secs) 0.002330303192138672\n",
      "[('Shell', 0.3526136875152588)]\n",
      "Filename: ./data/opensource-website/jest-preprocess.js\n",
      "Total time to execute(secs) 0.0023140907287597656\n",
      "[('JavaScript', 0.3400322496891022)]\n",
      "Filename: ./data/DPR/dpr/models/pytext_models.py\n",
      "Total time to execute(secs) 0.0049626827239990234\n",
      "[('Python', 1.0)]\n"
     ]
    }
   ],
   "source": [
    "files = [ \"./data/brew/Library/Homebrew/utils.rb\",\"./data/azure-storage-net-data-movement/lib/NativeMD5.cs\",\n",
    "        \"./data/brew/Library/Homebrew/tap_constants.rb\", \"./data/opensource-website/jest-preprocess.js\", \"./data/DPR/dpr/models/pytext_models.py\"]\n",
    "\n",
    "for file in files:\n",
    "    print(\"Filename: \"+ file)\n",
    "    print(guessLangFile(file, verbose = True, model=model, topk=1))"
   ]
  },
  {
   "cell_type": "code",
   "execution_count": 26,
   "id": "d9acdabd-5809-478b-96e3-49bc57877dd8",
   "metadata": {},
   "outputs": [
    {
     "name": "stdout",
     "output_type": "stream",
     "text": [
      "Filename:  ./data/azure-storage-net-data-movement/lib/NativeMD5.cs\n",
      "Predicted language:  C#\n",
      "2021/11/11 21:02:26 Total execution time(secs)  0.000215\n",
      "Filename:  ./data/brew/Library/Homebrew/utils.rb\n",
      "Predicted language:  Ruby\n",
      "2021/11/11 21:02:27 Total execution time(secs)  0.000149\n",
      "Filename:  ./data/brew/Library/Homebrew/tap_constants.rb\n",
      "Predicted language:  Ruby\n",
      "2021/11/11 21:02:28 Total execution time(secs)  0.000206\n",
      "Filename:  ./data/opensource-website/jest-preprocess.js\n",
      "Predicted language:  JavaScript\n",
      "2021/11/11 21:02:28 Total execution time(secs)  0.000153\n",
      "Filename:  ./data/DPR/dpr/models/pytext_models.py\n",
      "Predicted language:  Python\n",
      "2021/11/11 21:02:29 Total execution time(secs)  0.000174\n"
     ]
    }
   ],
   "source": [
    "!go run code/enry_singleFile.go ./data/azure-storage-net-data-movement/lib/NativeMD5.cs\n",
    "\n",
    "!go run code/enry_singleFile.go ./data/brew/Library/Homebrew/utils.rb\n",
    "\n",
    "!go run code/enry_singleFile.go ./data/brew/Library/Homebrew/tap_constants.rb \n",
    "\n",
    "!go run code/enry_singleFile.go ./data/opensource-website/jest-preprocess.js\n",
    "\n",
    "!go run code/enry_singleFile.go ./data/DPR/dpr/models/pytext_models.py"
   ]
  },
  {
   "cell_type": "markdown",
   "id": "a88caaf9-e72a-487c-a060-13ec336df1cc",
   "metadata": {},
   "source": [
    "#### 4.1.4 Observations\n",
    "\n",
    "In this section, I present my observations from running the above mini-experiment. I also present a graph showing the time it took for these solution on different file sizes (ran on CPU system not GPU).\n",
    "\n",
    "![alt text](./images/executionTimeComparison.png)\n",
    "\n",
    "We can make the following observations:\n",
    "1. GuessLang's execution time has a higher positive correlation to the file size in comparison to enry. This due to the fact that GuessLang only uses fole content for prediction whereas enry uses other strategies as described above.\n",
    "2. GuessLang has an associated warmup time on the first time execution i.e., once the model is loaded, the execution time reduces in comparison for the next run due to model available in the cache.\n",
    "3. GuessLang gets 1 prediction wrong for ```./data/brew/Library/Homebrew/tap_constants.rb```. It predicts ```Shell``` instead of ```Ruby```\n",
    "4. Enry has faster execution time in comparison to GuessLang."
   ]
  },
  {
   "cell_type": "markdown",
   "id": "51cf036f-5643-4a35-b7b3-b4bf428c5b8e",
   "metadata": {},
   "source": [
    "### 4.2 Comparison of filtering features\n",
    "\n",
    "Enry offers filtering features to have an option ignore files such as binaries, configuration, documentation, etc.\n",
    "GuessLang does not provide such filtering options.\n",
    "\n",
    "Enry provides the following filters:\n",
    "1. IsBinary\n",
    "2. IsVendor\n",
    "3. IsConfiguration\n",
    "4. IsDocumentation\n",
    "5. IsDotFile\n",
    "6. IsImage\n",
    "7. IsTest\n",
    "8. IsGenerated\n",
    "\n",
    "These filters are useful when running an automated code repository analysis."
   ]
  },
  {
   "cell_type": "markdown",
   "id": "bd2e4d05-03e6-457a-a89a-f23e24046136",
   "metadata": {},
   "source": [
    "#### 4.2.1 Present filtering features \n",
    "In this section, we show how some of enry's filtering features work. \n",
    "We will perform these functions on the following files:\n",
    "\n",
    "1. ```./data/DPR/conf/extractive_reader_train_cfg.yaml (Configuration file)```\n",
    "2. ```./data/opensource-website/README.md (Documentation file)```"
   ]
  },
  {
   "cell_type": "code",
   "execution_count": 27,
   "id": "247933c6-05ee-40b7-89e2-5398df64a5d4",
   "metadata": {},
   "outputs": [
    {
     "name": "stdout",
     "output_type": "stream",
     "text": [
      "Filename:  ./data/DPR/conf/extractive_reader_train_cfg.yaml\n",
      "Is Config?  true\n",
      "Is Documentation?  false\n",
      "2021/11/11 21:02:41 Total execution time(secs)  0.000156\n"
     ]
    }
   ],
   "source": [
    "!go run ./code/enry_filter.go ./data/DPR/conf/extractive_reader_train_cfg.yaml"
   ]
  },
  {
   "cell_type": "code",
   "execution_count": 28,
   "id": "f3488ca8-a582-4d00-94c9-a25cddbb6458",
   "metadata": {},
   "outputs": [
    {
     "name": "stdout",
     "output_type": "stream",
     "text": [
      "Filename:  ./data/opensource-website/README.md\n",
      "Is Config?  false\n",
      "Is Documentation?  true\n",
      "2021/11/11 21:02:42 Total execution time(secs)  0.000067\n"
     ]
    }
   ],
   "source": [
    "!go run ./code/enry_filter.go ./data/opensource-website/README.md"
   ]
  },
  {
   "cell_type": "markdown",
   "id": "ce011c2d-c60d-43bd-aca8-d979db83d46d",
   "metadata": {},
   "source": [
    "### 4.3 Command line tools\n",
    "\n",
    "Both enry and Guesslang provide command line tools. However, the command line tools for GuessLang are limited in comparison. GuessLang can only run the analysis on a single file, whereas enry can run a full-fledged code analysis of a repo without additional coding."
   ]
  },
  {
   "cell_type": "markdown",
   "id": "ba8c7ff1-7aff-479b-b084-e205c43f7451",
   "metadata": {},
   "source": [
    "#### 4.3.1 Present Command line tools for enry\n",
    "\n",
    "In this section, we will run enry's command line tool on all the repos in our dataset for code analysis. There were some issues in installing enry CLI. I am instead running their CLI code instead. "
   ]
  },
  {
   "cell_type": "code",
   "execution_count": 29,
   "id": "7a8b2bc8-05c6-48bf-97b9-24c82b4aae85",
   "metadata": {},
   "outputs": [
    {
     "name": "stdout",
     "output_type": "stream",
     "text": [
      "93.46%\tRuby\n",
      "2.29%\tfish\n",
      "1.97%\tShell\n",
      "1.71%\tRoff Manpage\n",
      "0.50%\tHTML+ERB\n",
      "0.03%\tSwift\n",
      "0.03%\tDockerfile\n",
      "0.01%\tPostScript\n",
      "Time to execute 1 enry command over 1 repo(secs) 1.662355899810791\n"
     ]
    }
   ],
   "source": [
    "# On Repo Brew\n",
    "start = time.time()\n",
    "!(cd ./data/brew && go run ../../enry/main.go)\n",
    "end = time.time()\n",
    "\n",
    "print(\"Time to execute 1 enry command over 1 repo(secs) \" + str(end-start))"
   ]
  },
  {
   "cell_type": "code",
   "execution_count": 30,
   "id": "8f9c96a1-7962-4e80-9680-40fb62a7172a",
   "metadata": {},
   "outputs": [
    {
     "name": "stdout",
     "output_type": "stream",
     "text": [
      "99.80%\tC#\n",
      "0.14%\tBatchfile\n",
      "0.05%\tPowerShell\n"
     ]
    }
   ],
   "source": [
    "# On Repo azure-storage-net-data-movement\n",
    "!(cd ./data/azure-storage-net-data-movement && go run ../../enry/main.go)"
   ]
  },
  {
   "cell_type": "code",
   "execution_count": 31,
   "id": "0a635739-7a1c-4c34-a5b0-92f56dfbd349",
   "metadata": {},
   "outputs": [
    {
     "name": "stdout",
     "output_type": "stream",
     "text": [
      "81.71%\tPHP\n",
      "17.73%\tBlade\n",
      "0.56%\tJavaScript\n",
      "0.00%\tCSS\n"
     ]
    }
   ],
   "source": [
    "# On Repo laravel\n",
    "!(cd ./data/laravel && go run ../../enry/main.go)"
   ]
  },
  {
   "cell_type": "code",
   "execution_count": 32,
   "id": "a9ef18e5-19c3-464e-915d-d8eedafe1b8d",
   "metadata": {},
   "outputs": [
    {
     "name": "stdout",
     "output_type": "stream",
     "text": [
      "94.22%\tC\n",
      "2.41%\tShell\n",
      "1.85%\tPython\n",
      "0.65%\tHTML\n",
      "0.38%\tCMake\n",
      "0.32%\tMakefile\n",
      "0.10%\tM4Sugar\n",
      "0.04%\tC++\n",
      "0.02%\tBatchfile\n"
     ]
    }
   ],
   "source": [
    "# On Repo oniguruma\n",
    "!(cd ./data/oniguruma && go run ../../enry/main.go)"
   ]
  },
  {
   "cell_type": "code",
   "execution_count": 33,
   "id": "7829bcd5-dee9-45ed-a215-6e710df5be0a",
   "metadata": {},
   "outputs": [
    {
     "name": "stdout",
     "output_type": "stream",
     "text": [
      "85.16%\tJavaScript\n",
      "14.34%\tSCSS\n",
      "0.49%\tCSS\n"
     ]
    }
   ],
   "source": [
    "# On Repo opensource-website\n",
    "!(cd ./data/opensource-website && go run ../../enry/main.go)"
   ]
  },
  {
   "cell_type": "markdown",
   "id": "19253924-361a-4d6b-973a-e42604060802",
   "metadata": {},
   "source": [
    "#### 4.3.2 Present Command line tools for GuessLang\n",
    "\n",
    "GuessLang CLI cannot perform repository analysis like enry. It can be used to perform programming language identification per file."
   ]
  },
  {
   "cell_type": "code",
   "execution_count": 34,
   "id": "5db017fa-3758-45fd-9971-48c7f03cbe59",
   "metadata": {},
   "outputs": [
    {
     "name": "stdout",
     "output_type": "stream",
     "text": [
      "Programming language: Python\n",
      "Programming language: Ruby\n",
      "Programming language: Shell\n",
      "Time to execute 3 GuessLang CLI commands(secs) 15.340967178344727\n"
     ]
    }
   ],
   "source": [
    "start = time.time()\n",
    "!guesslang ./data/DPR/generate_dense_embeddings.py\n",
    "!guesslang ./data/brew/Library/Homebrew/brew.rb\n",
    "!guesslang ./data/brew/Library/Homebrew/tap_constants.rb\n",
    "end = time.time()\n",
    "\n",
    "print(\"Time to execute 3 GuessLang CLI commands(secs) \" + str(end-start))"
   ]
  },
  {
   "cell_type": "markdown",
   "id": "8a326723-6a7d-46aa-b837-e27421308fe8",
   "metadata": {},
   "source": [
    "#### 4.3.3 Observations\n",
    "\n",
    "We can observe the following from enry and GuessLang tools:\n",
    "1. GuessLang CLI tool's functionality is fairly limited in comparison to enry.\n",
    "2. Enry's CLI tool is much faster in comparison. This might be because GuessLang's CLI tool requires model loading everytime the command call is made.\n"
   ]
  },
  {
   "cell_type": "markdown",
   "id": "8fe41c84-1891-4b34-b645-de72f9944571",
   "metadata": {},
   "source": [
    "### 4.4 Difference between content-based classifiers\n",
    "\n",
    "Enry uses a Naive Bayesian Classifier for its content-based classifier, whereas GuessLang uses a Linear Neural Network."
   ]
  },
  {
   "cell_type": "markdown",
   "id": "0a132034-70ac-43d5-9cc6-b1a687caed63",
   "metadata": {},
   "source": [
    "## 5. Summary"
   ]
  },
  {
   "cell_type": "markdown",
   "id": "c5d37347-f7ff-4dc2-b28c-42ca991b1415",
   "metadata": {},
   "source": [
    "We can observe that enry's performance in terms of speed surpasses GuessLang. Although enry uses a simpler classifier model but because of additional strategies such as using filename extension, shebang, model line, etc. it is able to perform well. However, its performance might be affected if only the code-snippet is available. Enry provides more functionality such as filteringa and repository code analysis.\n",
    "\n",
    "GuessLang is a simpler solution which only provides content-based classification using a neural network. Because it was developed to be used in situations where only the code-snippets are available, it performs well under those conditions. It is reported to have 93.45% accuracy over a test dataset of 230,000 source code files."
   ]
  }
 ],
 "metadata": {
  "kernelspec": {
   "display_name": "Python 3",
   "language": "python",
   "name": "python3"
  },
  "language_info": {
   "codemirror_mode": {
    "name": "ipython",
    "version": 3
   },
   "file_extension": ".py",
   "mimetype": "text/x-python",
   "name": "python",
   "nbconvert_exporter": "python",
   "pygments_lexer": "ipython3",
   "version": "3.6.13"
  }
 },
 "nbformat": 4,
 "nbformat_minor": 5
}
